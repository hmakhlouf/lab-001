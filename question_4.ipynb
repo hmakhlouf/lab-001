{
 "cells": [
  {
   "cell_type": "code",
   "execution_count": 7,
   "metadata": {},
   "outputs": [
    {
     "name": "stdin",
     "output_type": "stream",
     "text": [
      "enter parentheses:  {}[]()\n"
     ]
    },
    {
     "name": "stdout",
     "output_type": "stream",
     "text": [
      "{}[]() - is valid\n"
     ]
    }
   ],
   "source": [
    "class validity:\n",
    "\n",
    "    def f(str):\n",
    "\n",
    "        a= ['()', '{}', '[]'] \n",
    "\n",
    "        while any(i in str for i in a):\n",
    "\n",
    "            for j in a:\n",
    "\n",
    "                str = str.replace(j, '') \n",
    "\n",
    "        return not str \n",
    "\n",
    "s = input(\"enter parentheses: \")\n",
    "\n",
    "print(s, \"-\", \"is valid\" \n",
    "\n",
    "      if validity.f(s) else \"is Unvalid\") "
   ]
  },
  {
   "cell_type": "code",
   "execution_count": null,
   "metadata": {},
   "outputs": [],
   "source": []
  }
 ],
 "metadata": {
  "kernelspec": {
   "display_name": "Python 3 (ipykernel)",
   "language": "python",
   "name": "python3"
  },
  "language_info": {
   "codemirror_mode": {
    "name": "ipython",
    "version": 3
   },
   "file_extension": ".py",
   "mimetype": "text/x-python",
   "name": "python",
   "nbconvert_exporter": "python",
   "pygments_lexer": "ipython3",
   "version": "3.7.4"
  }
 },
 "nbformat": 4,
 "nbformat_minor": 4
}
