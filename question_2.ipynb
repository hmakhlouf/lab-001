{
 "cells": [
  {
   "cell_type": "code",
   "execution_count": 2,
   "metadata": {},
   "outputs": [],
   "source": [
    "# import the pandas library \n",
    "import pandas as pd"
   ]
  },
  {
   "cell_type": "code",
   "execution_count": 23,
   "metadata": {},
   "outputs": [
    {
     "name": "stdout",
     "output_type": "stream",
     "text": [
      "   name  gender  salary             email\n",
      "0   Tom    male   50000     tom@gmail.com\n",
      "1  nick  female   70000  nick@hotmail.com\n"
     ]
    }
   ],
   "source": [
    "# create the emplyees csv file \n",
    "\n",
    "# 1- # initialize data \n",
    "data = {'name':['Tom', 'nick'],\n",
    "        'gender':['male', 'female'],\n",
    "        'salary':[50000, 70000],\n",
    "        'email':['tom@gmail.com', 'nick@hotmail.com']\n",
    "       }\n",
    "\n",
    "\n",
    "# 2 - Create DataFrame\n",
    "df = pd.DataFrame(data)\n",
    "print(df)\n",
    "\n",
    "# 3 - datafram to csv file \n",
    "df.to_csv('emplyees.csv', index=False)\n",
    "\n"
   ]
  },
  {
   "cell_type": "code",
   "execution_count": 24,
   "metadata": {},
   "outputs": [
    {
     "name": "stdout",
     "output_type": "stream",
     "text": [
      "   name  gender  salary             email\n",
      "0   Tom    male   50000     tom@gmail.com\n",
      "1  nick  female   70000  nick@hotmail.com\n"
     ]
    }
   ],
   "source": [
    "# read the emplyees.csv file \n",
    "df_employees = pd.read_csv('emplyees.csv')\n",
    "print(df_employees)\n"
   ]
  },
  {
   "cell_type": "code",
   "execution_count": 25,
   "metadata": {},
   "outputs": [
    {
     "data": {
      "text/html": [
       "<div>\n",
       "<style scoped>\n",
       "    .dataframe tbody tr th:only-of-type {\n",
       "        vertical-align: middle;\n",
       "    }\n",
       "\n",
       "    .dataframe tbody tr th {\n",
       "        vertical-align: top;\n",
       "    }\n",
       "\n",
       "    .dataframe thead th {\n",
       "        text-align: right;\n",
       "    }\n",
       "</style>\n",
       "<table border=\"1\" class=\"dataframe\">\n",
       "  <thead>\n",
       "    <tr style=\"text-align: right;\">\n",
       "      <th></th>\n",
       "      <th>name</th>\n",
       "      <th>gender</th>\n",
       "      <th>salary</th>\n",
       "      <th>email</th>\n",
       "    </tr>\n",
       "  </thead>\n",
       "  <tbody>\n",
       "    <tr>\n",
       "      <td>1</td>\n",
       "      <td>nick</td>\n",
       "      <td>female</td>\n",
       "      <td>70000</td>\n",
       "      <td>nick@hotmail.com</td>\n",
       "    </tr>\n",
       "    <tr>\n",
       "      <td>0</td>\n",
       "      <td>Tom</td>\n",
       "      <td>male</td>\n",
       "      <td>50000</td>\n",
       "      <td>tom@gmail.com</td>\n",
       "    </tr>\n",
       "  </tbody>\n",
       "</table>\n",
       "</div>"
      ],
      "text/plain": [
       "   name  gender  salary             email\n",
       "1  nick  female   70000  nick@hotmail.com\n",
       "0   Tom    male   50000     tom@gmail.com"
      ]
     },
     "execution_count": 25,
     "metadata": {},
     "output_type": "execute_result"
    }
   ],
   "source": [
    "# sorting  the data by salary in descending order\n",
    "\n",
    "df_employees.sort_values(by=['salary'], ascending=False)"
   ]
  },
  {
   "cell_type": "code",
   "execution_count": 27,
   "metadata": {},
   "outputs": [],
   "source": [
    "# save the outcome into “employees-sorted.csv” file in the same diretory \n",
    "df_employees.to_csv('employees-sorted.csv', index=False)"
   ]
  },
  {
   "cell_type": "code",
   "execution_count": null,
   "metadata": {},
   "outputs": [],
   "source": []
  }
 ],
 "metadata": {
  "kernelspec": {
   "display_name": "Python 3 (ipykernel)",
   "language": "python",
   "name": "python3"
  },
  "language_info": {
   "codemirror_mode": {
    "name": "ipython",
    "version": 3
   },
   "file_extension": ".py",
   "mimetype": "text/x-python",
   "name": "python",
   "nbconvert_exporter": "python",
   "pygments_lexer": "ipython3",
   "version": "3.7.4"
  }
 },
 "nbformat": 4,
 "nbformat_minor": 4
}
