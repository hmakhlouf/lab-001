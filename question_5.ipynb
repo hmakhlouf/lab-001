{
 "cells": [
  {
   "cell_type": "code",
   "execution_count": 5,
   "metadata": {},
   "outputs": [
    {
     "name": "stdin",
     "output_type": "stream",
     "text": [
      "enter a set of distinct numbers:  456\n"
     ]
    },
    {
     "name": "stdout",
     "output_type": "stream",
     "text": [
      "[[], ['6'], ['5'], ['5', '6'], ['4'], ['4', '6'], ['4', '5'], ['4', '5', '6']]\n"
     ]
    }
   ],
   "source": [
    "class py_sol:\n",
    "    def sub_sets(self, sset):\n",
    "        return self.subsetsRecur([], sorted(sset))\n",
    "    \n",
    "    def subsetsRecur(self, current, sset):\n",
    "        if sset:\n",
    "            return self.subsetsRecur(current, sset[1:]) + self.subsetsRecur(current + [sset[0]], sset[1:])\n",
    "        return [current]\n",
    "\n",
    "\n",
    "l = input(\"enter a set of distinct numbers: \")\n",
    "        \n",
    "\n",
    "print(py_sol().sub_sets(l))"
   ]
  },
  {
   "cell_type": "code",
   "execution_count": null,
   "metadata": {},
   "outputs": [],
   "source": []
  },
  {
   "cell_type": "code",
   "execution_count": null,
   "metadata": {},
   "outputs": [],
   "source": [
    "\n"
   ]
  },
  {
   "cell_type": "code",
   "execution_count": null,
   "metadata": {},
   "outputs": [],
   "source": []
  }
 ],
 "metadata": {
  "kernelspec": {
   "display_name": "Python 3 (ipykernel)",
   "language": "python",
   "name": "python3"
  },
  "language_info": {
   "codemirror_mode": {
    "name": "ipython",
    "version": 3
   },
   "file_extension": ".py",
   "mimetype": "text/x-python",
   "name": "python",
   "nbconvert_exporter": "python",
   "pygments_lexer": "ipython3",
   "version": "3.7.4"
  }
 },
 "nbformat": 4,
 "nbformat_minor": 4
}
